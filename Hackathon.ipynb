{
  "nbformat": 4,
  "nbformat_minor": 0,
  "metadata": {
    "colab": {
      "provenance": [],
      "authorship_tag": "ABX9TyNfecoIQF+kD5OS4SVIJYkU",
      "include_colab_link": true
    },
    "kernelspec": {
      "name": "python3",
      "display_name": "Python 3"
    },
    "language_info": {
      "name": "python"
    }
  },
  "cells": [
    {
      "cell_type": "markdown",
      "metadata": {
        "id": "view-in-github",
        "colab_type": "text"
      },
      "source": [
        "<a href=\"https://colab.research.google.com/github/Akhila2403A51L40/HACKATHON_2025/blob/main/Hackathon.ipynb\" target=\"_parent\"><img src=\"https://colab.research.google.com/assets/colab-badge.svg\" alt=\"Open In Colab\"/></a>"
      ]
    },
    {
      "cell_type": "code",
      "source": [
        "import hashlib\n",
        "import time\n",
        "\n",
        "class Block:\n",
        "    def __init__(self, index, previous_hash, transactions, timestamp=None): # Changed _init_ to __init__\n",
        "        self.index = index\n",
        "        self.previous_hash = previous_hash\n",
        "        self.transactions = transactions\n",
        "        self.timestamp = timestamp or time.time()\n",
        "        self.nonce = 0\n",
        "        self.hash = self.compute_hash()\n",
        "\n",
        "    def compute_hash(self):\n",
        "        block_string = f\"{self.index}{self.previous_hash}{self.transactions}{self.timestamp}{self.nonce}\"\n",
        "        return hashlib.sha256(block_string.encode()).hexdigest()\n",
        "\n",
        "    def mine_block(self, difficulty):\n",
        "        while self.hash[:difficulty] != \"0\" * difficulty:\n",
        "            self.nonce += 1\n",
        "            self.hash = self.compute_hash()\n",
        "\n",
        "class Blockchain:\n",
        "    def __init__(self, difficulty=4): # Changed _init_ to __init__\n",
        "        self.chain = []\n",
        "        self.difficulty = difficulty\n",
        "        self.pending_transactions = []\n",
        "        self.create_genesis_block()\n",
        "\n",
        "    def create_genesis_block(self):\n",
        "        genesis_block = Block(0, \"0\", [], time.time())\n",
        "        genesis_block.mine_block(self.difficulty)\n",
        "        self.chain.append(genesis_block)\n",
        "\n",
        "    def add_transaction(self, transaction):\n",
        "        self.pending_transactions.append(transaction)\n",
        "\n",
        "    def mine_pending_transactions(self):\n",
        "        if not self.pending_transactions:\n",
        "            return False\n",
        "\n",
        "        last_block = self.chain[-1]\n",
        "        new_block = Block(len(self.chain), last_block.hash, self.pending_transactions)\n",
        "        new_block.mine_block(self.difficulty)\n",
        "        self.chain.append(new_block)\n",
        "        self.pending_transactions = []\n",
        "        return new_block\n",
        "\n",
        "    def is_chain_valid(self):\n",
        "        for i in range(1, len(self.chain)):\n",
        "            current = self.chain[i]\n",
        "            previous = self.chain[i - 1]\n",
        "\n",
        "            if current.hash != current.compute_hash():\n",
        "                return False\n",
        "            if current.previous_hash != previous.hash:\n",
        "                return False\n",
        "\n",
        "        return True\n",
        "\n",
        "# Testing the Blockchain\n",
        "blockchain = Blockchain()\n",
        "\n",
        "# Adding Transactions\n",
        "blockchain.add_transaction(\"User1 sends 2 BTC to User2\")\n",
        "blockchain.add_transaction(\"User3 sends 5 BTC to User4\")\n",
        "\n",
        "# Mining the transactions into a new block\n",
        "new_block = blockchain.mine_pending_transactions()\n",
        "print(f\"New Block Mined! Hash: {new_block.hash}\")\n",
        "\n",
        "# Validating the blockchain\n",
        "print(f\"Is blockchain valid? {blockchain.is_chain_valid()}\")"
      ],
      "metadata": {
        "colab": {
          "base_uri": "https://localhost:8080/"
        },
        "id": "CHogmHZNKkwp",
        "outputId": "6ac45dd1-a293-472e-fb06-d04c10a35416"
      },
      "execution_count": 5,
      "outputs": [
        {
          "output_type": "stream",
          "name": "stdout",
          "text": [
            "New Block Mined! Hash: 00007797d4f59894567a74d4c6b5896e189802ee17178c72ca60a8e0ada379ae\n",
            "Is blockchain valid? True\n"
          ]
        }
      ]
    }
  ]
}